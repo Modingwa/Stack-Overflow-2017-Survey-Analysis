{
 "cells": [
  {
   "cell_type": "markdown",
   "metadata": {
    "colab_type": "text",
    "id": "jIyy9Dv85hIj"
   },
   "source": [
    "---\n",
    "\n",
    "# An Analysis of the 2019 Stack Overflow Survey Data\n",
    "\n",
    "---"
   ]
  },
  {
   "cell_type": "markdown",
   "metadata": {},
   "source": [
    "# Methodology\n",
    "\n",
    "---\n",
    "This analysis is going to follow the CRISP-DM methodology, cross-industry process for data mining. CRISP-DM is a robust and well known methodology that provides a structured approach to planning a data mining project. It includes the following processes:\n",
    "\n",
    "1. business understanding\n",
    "2. data understanding\n",
    "3. prepare data\n",
    "4. data modelling\n",
    "5. evaluate the results\n",
    "6. deploy\n",
    "    \n",
    "---"
   ]
  },
  {
   "cell_type": "markdown",
   "metadata": {
    "colab_type": "text",
    "id": "8dOR0X7epdiD"
   },
   "source": [
    "# 1.0 Business Understanding\n",
    "\n",
    "With nearly 90 000 responses fielded from over 170 countries and dependent territories, <b>Stack Overflow Annual Developer</b> Survey continues to be the most comprehensive survey of software developers ever conducted. The survey covers aspects such as career satisfaction and job search to programming languages.\n",
    "\n",
    "In this project, the survey results will be used to answer the following questions for aspiring data scientists:\n",
    "\n",
    "*   What is the programming language of choice?\n",
    "*   What's the pay for developers like?\n",
    "*   What is the framework of choice for developers?\n",
    "\n",
    "A summary of the finding is available at this blogpost: [Results Analysis](https://medium.com/p/c8dac1617d40)"
   ]
  },
  {
   "cell_type": "markdown",
   "metadata": {},
   "source": [
    "---\n",
    "\n",
    "### Summary of Results\n",
    "\n",
    "After analyzing the data, we found that python is the programming language of choice for developers who identify as Data Scintists and Machine Learning Specialists. Salaries for Data Scientists and Machine Learning Specialist are the highest in the USA. Surprisingly, jQuery is the web framework of choice.\n",
    "\n",
    "For more details, please refer to the the full analysis below.\n",
    "\n",
    "---"
   ]
  },
  {
   "cell_type": "code",
   "execution_count": 134,
   "metadata": {
    "colab": {},
    "colab_type": "code",
    "id": "7Tt4-9tXOcEQ"
   },
   "outputs": [],
   "source": [
    "# Load required libraries\n",
    "import numpy as np\n",
    "import pandas as pd\n",
    "import seaborn as sns\n",
    "import matplotlib.pyplot as plt\n",
    "%matplotlib inline\n",
    "from sklearn.tree import DecisionTreeClassifier\n",
    "from sklearn.ensemble import RandomForestClassifier\n",
    "from sklearn.metrics import accuracy_score\n",
    "from sklearn.model_selection import train_test_split\n",
    "from sklearn.metrics import r2_score, mean_squared_error"
   ]
  },
  {
   "cell_type": "markdown",
   "metadata": {
    "colab_type": "text",
    "id": "pmloHiAv5yFM"
   },
   "source": [
    "---\n",
    "\n",
    "# 2.0 Data Understanding\n",
    "\n",
    "---\n"
   ]
  },
  {
   "cell_type": "code",
   "execution_count": 135,
   "metadata": {
    "colab": {
     "base_uri": "https://localhost:8080/",
     "height": 35
    },
    "colab_type": "code",
    "id": "MgpOQkkcPDBS",
    "outputId": "29fd7f28-3c53-4c76-ac4b-833fb91e7de6"
   },
   "outputs": [
    {
     "data": {
      "text/html": [
       "<div>\n",
       "<style scoped>\n",
       "    .dataframe tbody tr th:only-of-type {\n",
       "        vertical-align: middle;\n",
       "    }\n",
       "\n",
       "    .dataframe tbody tr th {\n",
       "        vertical-align: top;\n",
       "    }\n",
       "\n",
       "    .dataframe thead th {\n",
       "        text-align: right;\n",
       "    }\n",
       "</style>\n",
       "<table border=\"1\" class=\"dataframe\">\n",
       "  <thead>\n",
       "    <tr style=\"text-align: right;\">\n",
       "      <th></th>\n",
       "      <th>Respondent</th>\n",
       "      <th>MainBranch</th>\n",
       "      <th>Hobbyist</th>\n",
       "      <th>OpenSourcer</th>\n",
       "      <th>OpenSource</th>\n",
       "      <th>Employment</th>\n",
       "      <th>Country</th>\n",
       "      <th>Student</th>\n",
       "      <th>EdLevel</th>\n",
       "      <th>UndergradMajor</th>\n",
       "      <th>...</th>\n",
       "      <th>WelcomeChange</th>\n",
       "      <th>SONewContent</th>\n",
       "      <th>Age</th>\n",
       "      <th>Gender</th>\n",
       "      <th>Trans</th>\n",
       "      <th>Sexuality</th>\n",
       "      <th>Ethnicity</th>\n",
       "      <th>Dependents</th>\n",
       "      <th>SurveyLength</th>\n",
       "      <th>SurveyEase</th>\n",
       "    </tr>\n",
       "  </thead>\n",
       "  <tbody>\n",
       "    <tr>\n",
       "      <th>0</th>\n",
       "      <td>1</td>\n",
       "      <td>I am a student who is learning to code</td>\n",
       "      <td>Yes</td>\n",
       "      <td>Never</td>\n",
       "      <td>The quality of OSS and closed source software ...</td>\n",
       "      <td>Not employed, and not looking for work</td>\n",
       "      <td>United Kingdom</td>\n",
       "      <td>No</td>\n",
       "      <td>Primary/elementary school</td>\n",
       "      <td>NaN</td>\n",
       "      <td>...</td>\n",
       "      <td>Just as welcome now as I felt last year</td>\n",
       "      <td>Tech articles written by other developers;Indu...</td>\n",
       "      <td>14.0</td>\n",
       "      <td>Man</td>\n",
       "      <td>No</td>\n",
       "      <td>Straight / Heterosexual</td>\n",
       "      <td>NaN</td>\n",
       "      <td>No</td>\n",
       "      <td>Appropriate in length</td>\n",
       "      <td>Neither easy nor difficult</td>\n",
       "    </tr>\n",
       "    <tr>\n",
       "      <th>1</th>\n",
       "      <td>2</td>\n",
       "      <td>I am a student who is learning to code</td>\n",
       "      <td>No</td>\n",
       "      <td>Less than once per year</td>\n",
       "      <td>The quality of OSS and closed source software ...</td>\n",
       "      <td>Not employed, but looking for work</td>\n",
       "      <td>Bosnia and Herzegovina</td>\n",
       "      <td>Yes, full-time</td>\n",
       "      <td>Secondary school (e.g. American high school, G...</td>\n",
       "      <td>NaN</td>\n",
       "      <td>...</td>\n",
       "      <td>Just as welcome now as I felt last year</td>\n",
       "      <td>Tech articles written by other developers;Indu...</td>\n",
       "      <td>19.0</td>\n",
       "      <td>Man</td>\n",
       "      <td>No</td>\n",
       "      <td>Straight / Heterosexual</td>\n",
       "      <td>NaN</td>\n",
       "      <td>No</td>\n",
       "      <td>Appropriate in length</td>\n",
       "      <td>Neither easy nor difficult</td>\n",
       "    </tr>\n",
       "    <tr>\n",
       "      <th>2</th>\n",
       "      <td>3</td>\n",
       "      <td>I am not primarily a developer, but I write co...</td>\n",
       "      <td>Yes</td>\n",
       "      <td>Never</td>\n",
       "      <td>The quality of OSS and closed source software ...</td>\n",
       "      <td>Employed full-time</td>\n",
       "      <td>Thailand</td>\n",
       "      <td>No</td>\n",
       "      <td>Bachelor’s degree (BA, BS, B.Eng., etc.)</td>\n",
       "      <td>Web development or web design</td>\n",
       "      <td>...</td>\n",
       "      <td>Just as welcome now as I felt last year</td>\n",
       "      <td>Tech meetups or events in your area;Courses on...</td>\n",
       "      <td>28.0</td>\n",
       "      <td>Man</td>\n",
       "      <td>No</td>\n",
       "      <td>Straight / Heterosexual</td>\n",
       "      <td>NaN</td>\n",
       "      <td>Yes</td>\n",
       "      <td>Appropriate in length</td>\n",
       "      <td>Neither easy nor difficult</td>\n",
       "    </tr>\n",
       "    <tr>\n",
       "      <th>3</th>\n",
       "      <td>4</td>\n",
       "      <td>I am a developer by profession</td>\n",
       "      <td>No</td>\n",
       "      <td>Never</td>\n",
       "      <td>The quality of OSS and closed source software ...</td>\n",
       "      <td>Employed full-time</td>\n",
       "      <td>United States</td>\n",
       "      <td>No</td>\n",
       "      <td>Bachelor’s degree (BA, BS, B.Eng., etc.)</td>\n",
       "      <td>Computer science, computer engineering, or sof...</td>\n",
       "      <td>...</td>\n",
       "      <td>Just as welcome now as I felt last year</td>\n",
       "      <td>Tech articles written by other developers;Indu...</td>\n",
       "      <td>22.0</td>\n",
       "      <td>Man</td>\n",
       "      <td>No</td>\n",
       "      <td>Straight / Heterosexual</td>\n",
       "      <td>White or of European descent</td>\n",
       "      <td>No</td>\n",
       "      <td>Appropriate in length</td>\n",
       "      <td>Easy</td>\n",
       "    </tr>\n",
       "    <tr>\n",
       "      <th>4</th>\n",
       "      <td>5</td>\n",
       "      <td>I am a developer by profession</td>\n",
       "      <td>Yes</td>\n",
       "      <td>Once a month or more often</td>\n",
       "      <td>OSS is, on average, of HIGHER quality than pro...</td>\n",
       "      <td>Employed full-time</td>\n",
       "      <td>Ukraine</td>\n",
       "      <td>No</td>\n",
       "      <td>Bachelor’s degree (BA, BS, B.Eng., etc.)</td>\n",
       "      <td>Computer science, computer engineering, or sof...</td>\n",
       "      <td>...</td>\n",
       "      <td>Just as welcome now as I felt last year</td>\n",
       "      <td>Tech meetups or events in your area;Courses on...</td>\n",
       "      <td>30.0</td>\n",
       "      <td>Man</td>\n",
       "      <td>No</td>\n",
       "      <td>Straight / Heterosexual</td>\n",
       "      <td>White or of European descent;Multiracial</td>\n",
       "      <td>No</td>\n",
       "      <td>Appropriate in length</td>\n",
       "      <td>Easy</td>\n",
       "    </tr>\n",
       "  </tbody>\n",
       "</table>\n",
       "<p>5 rows × 85 columns</p>\n",
       "</div>"
      ],
      "text/plain": [
       "   Respondent                                         MainBranch Hobbyist  \\\n",
       "0           1             I am a student who is learning to code      Yes   \n",
       "1           2             I am a student who is learning to code       No   \n",
       "2           3  I am not primarily a developer, but I write co...      Yes   \n",
       "3           4                     I am a developer by profession       No   \n",
       "4           5                     I am a developer by profession      Yes   \n",
       "\n",
       "                  OpenSourcer  \\\n",
       "0                       Never   \n",
       "1     Less than once per year   \n",
       "2                       Never   \n",
       "3                       Never   \n",
       "4  Once a month or more often   \n",
       "\n",
       "                                          OpenSource  \\\n",
       "0  The quality of OSS and closed source software ...   \n",
       "1  The quality of OSS and closed source software ...   \n",
       "2  The quality of OSS and closed source software ...   \n",
       "3  The quality of OSS and closed source software ...   \n",
       "4  OSS is, on average, of HIGHER quality than pro...   \n",
       "\n",
       "                               Employment                 Country  \\\n",
       "0  Not employed, and not looking for work          United Kingdom   \n",
       "1      Not employed, but looking for work  Bosnia and Herzegovina   \n",
       "2                      Employed full-time                Thailand   \n",
       "3                      Employed full-time           United States   \n",
       "4                      Employed full-time                 Ukraine   \n",
       "\n",
       "          Student                                            EdLevel  \\\n",
       "0              No                          Primary/elementary school   \n",
       "1  Yes, full-time  Secondary school (e.g. American high school, G...   \n",
       "2              No           Bachelor’s degree (BA, BS, B.Eng., etc.)   \n",
       "3              No           Bachelor’s degree (BA, BS, B.Eng., etc.)   \n",
       "4              No           Bachelor’s degree (BA, BS, B.Eng., etc.)   \n",
       "\n",
       "                                      UndergradMajor  ...  \\\n",
       "0                                                NaN  ...   \n",
       "1                                                NaN  ...   \n",
       "2                      Web development or web design  ...   \n",
       "3  Computer science, computer engineering, or sof...  ...   \n",
       "4  Computer science, computer engineering, or sof...  ...   \n",
       "\n",
       "                             WelcomeChange  \\\n",
       "0  Just as welcome now as I felt last year   \n",
       "1  Just as welcome now as I felt last year   \n",
       "2  Just as welcome now as I felt last year   \n",
       "3  Just as welcome now as I felt last year   \n",
       "4  Just as welcome now as I felt last year   \n",
       "\n",
       "                                        SONewContent   Age Gender Trans  \\\n",
       "0  Tech articles written by other developers;Indu...  14.0    Man    No   \n",
       "1  Tech articles written by other developers;Indu...  19.0    Man    No   \n",
       "2  Tech meetups or events in your area;Courses on...  28.0    Man    No   \n",
       "3  Tech articles written by other developers;Indu...  22.0    Man    No   \n",
       "4  Tech meetups or events in your area;Courses on...  30.0    Man    No   \n",
       "\n",
       "                 Sexuality                                 Ethnicity  \\\n",
       "0  Straight / Heterosexual                                       NaN   \n",
       "1  Straight / Heterosexual                                       NaN   \n",
       "2  Straight / Heterosexual                                       NaN   \n",
       "3  Straight / Heterosexual              White or of European descent   \n",
       "4  Straight / Heterosexual  White or of European descent;Multiracial   \n",
       "\n",
       "  Dependents           SurveyLength                  SurveyEase  \n",
       "0         No  Appropriate in length  Neither easy nor difficult  \n",
       "1         No  Appropriate in length  Neither easy nor difficult  \n",
       "2        Yes  Appropriate in length  Neither easy nor difficult  \n",
       "3         No  Appropriate in length                        Easy  \n",
       "4         No  Appropriate in length                        Easy  \n",
       "\n",
       "[5 rows x 85 columns]"
      ]
     },
     "execution_count": 135,
     "metadata": {},
     "output_type": "execute_result"
    }
   ],
   "source": [
    "df = pd.read_csv(\"../data/stack_overflow_survey/survey_results_public_2019.csv\", low_memory = False)\n",
    "schema = pd.read_csv(\"../data/stack_overflow_survey/survey_results_schema.csv\")\n",
    "df.head()"
   ]
  },
  {
   "cell_type": "code",
   "execution_count": 136,
   "metadata": {
    "colab": {
     "base_uri": "https://localhost:8080/",
     "height": 35
    },
    "colab_type": "code",
    "id": "upzdxnmaPMAJ",
    "outputId": "8b9f1737-5cc0-45ee-e6bf-da4675852ca9"
   },
   "outputs": [
    {
     "data": {
      "text/plain": [
       "(88883, 85)"
      ]
     },
     "execution_count": 136,
     "metadata": {},
     "output_type": "execute_result"
    }
   ],
   "source": [
    "df.shape"
   ]
  },
  {
   "cell_type": "code",
   "execution_count": 137,
   "metadata": {},
   "outputs": [
    {
     "data": {
      "text/html": [
       "<div>\n",
       "<style scoped>\n",
       "    .dataframe tbody tr th:only-of-type {\n",
       "        vertical-align: middle;\n",
       "    }\n",
       "\n",
       "    .dataframe tbody tr th {\n",
       "        vertical-align: top;\n",
       "    }\n",
       "\n",
       "    .dataframe thead th {\n",
       "        text-align: right;\n",
       "    }\n",
       "</style>\n",
       "<table border=\"1\" class=\"dataframe\">\n",
       "  <thead>\n",
       "    <tr style=\"text-align: right;\">\n",
       "      <th></th>\n",
       "      <th>Column</th>\n",
       "      <th>QuestionText</th>\n",
       "    </tr>\n",
       "  </thead>\n",
       "  <tbody>\n",
       "    <tr>\n",
       "      <th>0</th>\n",
       "      <td>Respondent</td>\n",
       "      <td>Randomized respondent ID number (not in order ...</td>\n",
       "    </tr>\n",
       "    <tr>\n",
       "      <th>1</th>\n",
       "      <td>MainBranch</td>\n",
       "      <td>Which of the following options best describes ...</td>\n",
       "    </tr>\n",
       "    <tr>\n",
       "      <th>2</th>\n",
       "      <td>Hobbyist</td>\n",
       "      <td>Do you code as a hobby?</td>\n",
       "    </tr>\n",
       "    <tr>\n",
       "      <th>3</th>\n",
       "      <td>OpenSourcer</td>\n",
       "      <td>How often do you contribute to open source?</td>\n",
       "    </tr>\n",
       "    <tr>\n",
       "      <th>4</th>\n",
       "      <td>OpenSource</td>\n",
       "      <td>How do you feel about the quality of open sour...</td>\n",
       "    </tr>\n",
       "  </tbody>\n",
       "</table>\n",
       "</div>"
      ],
      "text/plain": [
       "        Column                                       QuestionText\n",
       "0   Respondent  Randomized respondent ID number (not in order ...\n",
       "1   MainBranch  Which of the following options best describes ...\n",
       "2     Hobbyist                            Do you code as a hobby?\n",
       "3  OpenSourcer        How often do you contribute to open source?\n",
       "4   OpenSource  How do you feel about the quality of open sour..."
      ]
     },
     "execution_count": 137,
     "metadata": {},
     "output_type": "execute_result"
    }
   ],
   "source": [
    "schema.head()"
   ]
  },
  {
   "cell_type": "code",
   "execution_count": 138,
   "metadata": {},
   "outputs": [
    {
     "data": {
      "text/plain": [
       "(85, 2)"
      ]
     },
     "execution_count": 138,
     "metadata": {},
     "output_type": "execute_result"
    }
   ],
   "source": [
    "schema.shape"
   ]
  },
  {
   "cell_type": "markdown",
   "metadata": {
    "colab_type": "text",
    "id": "_OBg_iGQtiJE"
   },
   "source": [
    "The survey data consists of 88,883 records and 85 fetures."
   ]
  },
  {
   "cell_type": "code",
   "execution_count": 139,
   "metadata": {
    "colab": {
     "base_uri": "https://localhost:8080/",
     "height": 104
    },
    "colab_type": "code",
    "id": "_x7tdakMRANQ",
    "outputId": "5ab64a78-d280-4c11-b34c-83942506eded"
   },
   "outputs": [
    {
     "name": "stdout",
     "output_type": "stream",
     "text": [
      "<class 'pandas.core.frame.DataFrame'>\n",
      "RangeIndex: 88883 entries, 0 to 88882\n",
      "Data columns (total 85 columns):\n",
      "Respondent                88883 non-null int64\n",
      "MainBranch                88331 non-null object\n",
      "Hobbyist                  88883 non-null object\n",
      "OpenSourcer               88883 non-null object\n",
      "OpenSource                86842 non-null object\n",
      "Employment                87181 non-null object\n",
      "Country                   88751 non-null object\n",
      "Student                   87014 non-null object\n",
      "EdLevel                   86390 non-null object\n",
      "UndergradMajor            75614 non-null object\n",
      "EduOther                  84260 non-null object\n",
      "OrgSize                   71791 non-null object\n",
      "DevType                   81335 non-null object\n",
      "YearsCode                 87938 non-null object\n",
      "Age1stCode                87634 non-null object\n",
      "YearsCodePro              74331 non-null object\n",
      "CareerSat                 72847 non-null object\n",
      "JobSat                    70988 non-null object\n",
      "MgrIdiot                  61159 non-null object\n",
      "MgrMoney                  61157 non-null object\n",
      "MgrWant                   61232 non-null object\n",
      "JobSeek                   80555 non-null object\n",
      "LastHireDate              79854 non-null object\n",
      "LastInt                   67155 non-null object\n",
      "FizzBuzz                  71344 non-null object\n",
      "JobFactors                79371 non-null object\n",
      "ResumeUpdate              77877 non-null object\n",
      "CurrencySymbol            71392 non-null object\n",
      "CurrencyDesc              71392 non-null object\n",
      "CompTotal                 55945 non-null float64\n",
      "CompFreq                  63268 non-null object\n",
      "ConvertedComp             55823 non-null float64\n",
      "WorkWeekHrs               64503 non-null float64\n",
      "WorkPlan                  68914 non-null object\n",
      "WorkChallenge             68141 non-null object\n",
      "WorkRemote                70284 non-null object\n",
      "WorkLoc                   70055 non-null object\n",
      "ImpSyn                    71779 non-null object\n",
      "CodeRev                   70390 non-null object\n",
      "CodeRevHrs                49790 non-null float64\n",
      "UnitTests                 62668 non-null object\n",
      "PurchaseHow               61108 non-null object\n",
      "PurchaseWhat              62029 non-null object\n",
      "LanguageWorkedWith        87569 non-null object\n",
      "LanguageDesireNextYear    84088 non-null object\n",
      "DatabaseWorkedWith        76026 non-null object\n",
      "DatabaseDesireNextYear    69147 non-null object\n",
      "PlatformWorkedWith        80714 non-null object\n",
      "PlatformDesireNextYear    77443 non-null object\n",
      "WebFrameWorkedWith        65022 non-null object\n",
      "WebFrameDesireNextYear    62944 non-null object\n",
      "MiscTechWorkedWith        59586 non-null object\n",
      "MiscTechDesireNextYear    64511 non-null object\n",
      "DevEnviron                87317 non-null object\n",
      "OpSys                     87851 non-null object\n",
      "Containers                85366 non-null object\n",
      "BlockchainOrg             48175 non-null object\n",
      "BlockchainIs              60165 non-null object\n",
      "BetterLife                86269 non-null object\n",
      "ITperson                  87141 non-null object\n",
      "OffOn                     86663 non-null object\n",
      "SocialMedia               84437 non-null object\n",
      "Extraversion              87305 non-null object\n",
      "ScreenName                80486 non-null object\n",
      "SOVisit1st                83877 non-null object\n",
      "SOVisitFreq               88263 non-null object\n",
      "SOVisitTo                 88086 non-null object\n",
      "SOFindAnswer              87816 non-null object\n",
      "SOTimeSaved               86344 non-null object\n",
      "SOHowMuchTime             68378 non-null object\n",
      "SOAccount                 87828 non-null object\n",
      "SOPartFreq                74692 non-null object\n",
      "SOJobs                    88066 non-null object\n",
      "EntTeams                  87841 non-null object\n",
      "SOComm                    88131 non-null object\n",
      "WelcomeChange             85855 non-null object\n",
      "SONewContent              69560 non-null object\n",
      "Age                       79210 non-null float64\n",
      "Gender                    85406 non-null object\n",
      "Trans                     83607 non-null object\n",
      "Sexuality                 76147 non-null object\n",
      "Ethnicity                 76668 non-null object\n",
      "Dependents                83059 non-null object\n",
      "SurveyLength              86984 non-null object\n",
      "SurveyEase                87081 non-null object\n",
      "dtypes: float64(5), int64(1), object(79)\n",
      "memory usage: 57.6+ MB\n"
     ]
    }
   ],
   "source": [
    "df.info()"
   ]
  },
  {
   "cell_type": "code",
   "execution_count": 140,
   "metadata": {},
   "outputs": [
    {
     "data": {
      "text/plain": [
       "{'Hobbyist', 'OpenSourcer', 'Respondent'}"
      ]
     },
     "execution_count": 140,
     "metadata": {},
     "output_type": "execute_result"
    }
   ],
   "source": [
    "# check columns with no missing values\n",
    "set(df.isna().sum()[df.isna().sum()==0].keys())"
   ]
  },
  {
   "cell_type": "code",
   "execution_count": 141,
   "metadata": {},
   "outputs": [
    {
     "data": {
      "text/plain": [
       "set()"
      ]
     },
     "execution_count": 141,
     "metadata": {},
     "output_type": "execute_result"
    }
   ],
   "source": [
    "# check which columns have over 50% missing values\n",
    "set(df.columns[100*df.isna().sum()/df.shape[0] > 50])"
   ]
  },
  {
   "cell_type": "code",
   "execution_count": 142,
   "metadata": {},
   "outputs": [
    {
     "data": {
      "text/plain": [
       "Column          0\n",
       "QuestionText    0\n",
       "dtype: int64"
      ]
     },
     "execution_count": 142,
     "metadata": {},
     "output_type": "execute_result"
    }
   ],
   "source": [
    "# check is we have missing schemas\n",
    "schema.isnull().sum()"
   ]
  },
  {
   "cell_type": "markdown",
   "metadata": {
    "colab_type": "text",
    "id": "mO7Sl35h6esu"
   },
   "source": [
    "## What is the programming of choice?"
   ]
  },
  {
   "cell_type": "markdown",
   "metadata": {
    "colab_type": "text",
    "id": "99hya-Bfuffc"
   },
   "source": [
    "There are just so, so many programming languages. And when you don't know much, which is very usual at the start, this can be very overwhelming. So let's take a look at what different developers from around the world use. That should give us an idea of what laguagues are important for what fields. "
   ]
  },
  {
   "cell_type": "code",
   "execution_count": 143,
   "metadata": {},
   "outputs": [
    {
     "data": {
      "image/png": "[encoded data removed]",
      "text/plain": [
       "<Figure size 432x288 with 1 Axes>"
      ]
     },
     "metadata": {
      "needs_background": "light"
     },
     "output_type": "display_data"
    }
   ],
   "source": [
    "count_values = df.LanguageWorkedWith.value_counts()#Provide a pandas series of the counts for each LanguageWorkedWith\n",
    "\n",
    "# display the top 10\n",
    "\n",
    "(count_values[:10]/df.shape[0]).plot(kind=\"bar\");\n",
    "plt.title(\"Programming Languages\");"
   ]
  },
  {
   "cell_type": "code",
   "execution_count": 144,
   "metadata": {},
   "outputs": [],
   "source": [
    "# the format of programming languages needs to be cleaned up, this is because for developers using multiple languages, \n",
    "# those languages are concatenated with ;"
   ]
  },
  {
   "cell_type": "code",
   "execution_count": 145,
   "metadata": {},
   "outputs": [],
   "source": [
    "# We have to split the LanguageWorkedWith to get a proper picture\n",
    "languages = df[df['LanguageWorkedWith'].notnull()]\n",
    "\n",
    "unique_languages = {}\n",
    "\n",
    "# split the languages on ;\n",
    "for language_set in languages['LanguageWorkedWith'].apply(lambda row: str(row).split(';')):\n",
    "    for language in language_set:\n",
    "        if language not in unique_languages.keys():\n",
    "            unique_languages[language] = 1\n",
    "        else:\n",
    "            unique_languages[language] += 1"
   ]
  },
  {
   "cell_type": "code",
   "execution_count": 146,
   "metadata": {},
   "outputs": [],
   "source": [
    "# develop a function that will be used for plotting bar graphs (horizontal)\n",
    "def plot_dimension_count(unique_dim_dict, plot_title):\n",
    "    \"\"\" Function for plotting a horizontal bar graph for the given dimension dictionary\n",
    "    \n",
    "    INPUT - unique_dim_dict - dictionary \n",
    "            plot_title - string - plot_title\n",
    "    \n",
    "    OUTPUT - bar chart showing the total count for per dimension of interest\n",
    "            \n",
    "    \"\"\"\n",
    "    dim_count = pd.DataFrame.from_dict(unique_dim_dict, orient='index', dtype=None)\n",
    "    dim_count.columns = ['Count']\n",
    "    dim_count.sort_values('Count',ascending=True,inplace=True)\n",
    "\n",
    "    dim_count.plot(kind = 'barh', figsize = (12,12), fontsize = 10, title = plot_title);"
   ]
  },
  {
   "cell_type": "code",
   "execution_count": 147,
   "metadata": {},
   "outputs": [
    {
     "data": {
      "image/png": "[encoded data removed]",
      "text/plain": [
       "<Figure size 864x864 with 1 Axes>"
      ]
     },
     "metadata": {
      "needs_background": "light"
     },
     "output_type": "display_data"
    }
   ],
   "source": [
    "# let make a bar graph\n",
    "plot_dimension_count(unique_languages,'The Most Popular Languages')"
   ]
  },
  {
   "cell_type": "markdown",
   "metadata": {},
   "source": [
    "---\n",
    "\n",
    "Although it's satisfying to knwo the most popular languages, this alone does not help in knowing the most popular language for data science. So, we are going to take a slightly different root.\n",
    "\n",
    "---"
   ]
  },
  {
   "cell_type": "code",
   "execution_count": 148,
   "metadata": {},
   "outputs": [],
   "source": [
    "# We have to split the LanguageWorkedWith to get a proper picture\n",
    "\n",
    "# Lets get unique developers\n",
    "developers = df[df['DevType'].notnull()] # drop null values\n",
    "\n",
    "unique_developers = {}\n",
    "\n",
    "# split the languages on ;\n",
    "for developer_set in developers['DevType'].apply(lambda row: str(row).split(';')):\n",
    "    for developer in developer_set:\n",
    "        if developer not in unique_developers.keys():\n",
    "            unique_developers[developer] = 1\n",
    "        else:\n",
    "            unique_developers[developer] += 1"
   ]
  },
  {
   "cell_type": "code",
   "execution_count": 149,
   "metadata": {},
   "outputs": [
    {
     "data": {
      "image/png": "[encoded data removed]",
      "text/plain": [
       "<Figure size 864x864 with 1 Axes>"
      ]
     },
     "metadata": {
      "needs_background": "light"
     },
     "output_type": "display_data"
    }
   ],
   "source": [
    "# lets make a bar graph\n",
    "plot_dimension_count(unique_developers,'Developer type')"
   ]
  },
  {
   "cell_type": "markdown",
   "metadata": {},
   "source": [
    "Since we are interested in Data Science language of choice, we will focus on 'Data scientist or machine learning specialist'"
   ]
  },
  {
   "cell_type": "code",
   "execution_count": 150,
   "metadata": {},
   "outputs": [],
   "source": [
    "# now for each 'Data scientist or machine learning specialist' developer, lets get programming language counts\n",
    "languages = languages[languages['DevType'].notnull()]\n",
    "\n",
    "# lets create an empty developer dict\n",
    "developer_dict = {}\n",
    "for devtype in developer_count.index.tolist():\n",
    "    developer_dict['{}'.format(devtype)] = {}\n",
    "\n",
    "# populate the dictionary with languages\n",
    "for dev in developer_dict.keys():\n",
    "    developer_dict[dev] = {key: 0 for key in list(unique_languages.keys())}\n",
    "    \n",
    "# now lets count the number of developers using the language\n",
    "for key, val in enumerate(languages['DevType']):\n",
    "    all_developers = val.split(';')\n",
    "    all_languages = languages.iloc[key, 43].split(';')\n",
    "    for dev in all_developers:\n",
    "        for lang in all_languages:\n",
    "            developer_dict[dev][lang] += 1\n",
    "\n",
    "developer_language_count = pd.DataFrame.from_dict(developer_dict, orient='index', dtype=None).T\n"
   ]
  },
  {
   "cell_type": "code",
   "execution_count": 151,
   "metadata": {
    "scrolled": true
   },
   "outputs": [
    {
     "data": {
      "text/html": [
       "<div>\n",
       "<style scoped>\n",
       "    .dataframe tbody tr th:only-of-type {\n",
       "        vertical-align: middle;\n",
       "    }\n",
       "\n",
       "    .dataframe tbody tr th {\n",
       "        vertical-align: top;\n",
       "    }\n",
       "\n",
       "    .dataframe thead th {\n",
       "        text-align: right;\n",
       "    }\n",
       "</style>\n",
       "<table border=\"1\" class=\"dataframe\">\n",
       "  <thead>\n",
       "    <tr style=\"text-align: right;\">\n",
       "      <th></th>\n",
       "      <th>Academic researcher</th>\n",
       "      <th>Data or business analyst</th>\n",
       "      <th>Data scientist or machine learning specialist</th>\n",
       "      <th>Database administrator</th>\n",
       "      <th>Designer</th>\n",
       "      <th>DevOps specialist</th>\n",
       "      <th>Developer, QA or test</th>\n",
       "      <th>Developer, back-end</th>\n",
       "      <th>Developer, desktop or enterprise applications</th>\n",
       "      <th>Developer, embedded applications or devices</th>\n",
       "      <th>...</th>\n",
       "      <th>Educator</th>\n",
       "      <th>Engineer, data</th>\n",
       "      <th>Engineer, site reliability</th>\n",
       "      <th>Engineering manager</th>\n",
       "      <th>Marketing or sales professional</th>\n",
       "      <th>Product manager</th>\n",
       "      <th>Scientist</th>\n",
       "      <th>Senior executive/VP</th>\n",
       "      <th>Student</th>\n",
       "      <th>System administrator</th>\n",
       "    </tr>\n",
       "  </thead>\n",
       "  <tbody>\n",
       "    <tr>\n",
       "      <th>HTML/CSS</th>\n",
       "      <td>3313</td>\n",
       "      <td>3909</td>\n",
       "      <td>3258</td>\n",
       "      <td>7253</td>\n",
       "      <td>7243</td>\n",
       "      <td>5907</td>\n",
       "      <td>4471</td>\n",
       "      <td>26605</td>\n",
       "      <td>11178</td>\n",
       "      <td>4186</td>\n",
       "      <td>...</td>\n",
       "      <td>3151</td>\n",
       "      <td>3286</td>\n",
       "      <td>1853</td>\n",
       "      <td>2732</td>\n",
       "      <td>749</td>\n",
       "      <td>2900</td>\n",
       "      <td>1846</td>\n",
       "      <td>1513</td>\n",
       "      <td>8122</td>\n",
       "      <td>6480</td>\n",
       "    </tr>\n",
       "    <tr>\n",
       "      <th>Java</th>\n",
       "      <td>2506</td>\n",
       "      <td>2138</td>\n",
       "      <td>2453</td>\n",
       "      <td>3657</td>\n",
       "      <td>3621</td>\n",
       "      <td>3651</td>\n",
       "      <td>2876</td>\n",
       "      <td>17904</td>\n",
       "      <td>7739</td>\n",
       "      <td>3207</td>\n",
       "      <td>...</td>\n",
       "      <td>1988</td>\n",
       "      <td>2484</td>\n",
       "      <td>1198</td>\n",
       "      <td>1673</td>\n",
       "      <td>322</td>\n",
       "      <td>1429</td>\n",
       "      <td>1262</td>\n",
       "      <td>766</td>\n",
       "      <td>6482</td>\n",
       "      <td>3484</td>\n",
       "    </tr>\n",
       "    <tr>\n",
       "      <th>JavaScript</th>\n",
       "      <td>3217</td>\n",
       "      <td>3860</td>\n",
       "      <td>3319</td>\n",
       "      <td>7436</td>\n",
       "      <td>7192</td>\n",
       "      <td>6529</td>\n",
       "      <td>4666</td>\n",
       "      <td>29372</td>\n",
       "      <td>11748</td>\n",
       "      <td>4413</td>\n",
       "      <td>...</td>\n",
       "      <td>3151</td>\n",
       "      <td>3499</td>\n",
       "      <td>2049</td>\n",
       "      <td>3040</td>\n",
       "      <td>700</td>\n",
       "      <td>3024</td>\n",
       "      <td>1764</td>\n",
       "      <td>1600</td>\n",
       "      <td>7574</td>\n",
       "      <td>6558</td>\n",
       "    </tr>\n",
       "    <tr>\n",
       "      <th>Python</th>\n",
       "      <td>3621</td>\n",
       "      <td>3264</td>\n",
       "      <td>5125</td>\n",
       "      <td>3945</td>\n",
       "      <td>3238</td>\n",
       "      <td>4647</td>\n",
       "      <td>2676</td>\n",
       "      <td>16537</td>\n",
       "      <td>6274</td>\n",
       "      <td>3693</td>\n",
       "      <td>...</td>\n",
       "      <td>2112</td>\n",
       "      <td>3742</td>\n",
       "      <td>1748</td>\n",
       "      <td>1969</td>\n",
       "      <td>373</td>\n",
       "      <td>1598</td>\n",
       "      <td>2513</td>\n",
       "      <td>977</td>\n",
       "      <td>6481</td>\n",
       "      <td>4586</td>\n",
       "    </tr>\n",
       "    <tr>\n",
       "      <th>C++</th>\n",
       "      <td>2364</td>\n",
       "      <td>1218</td>\n",
       "      <td>2066</td>\n",
       "      <td>2130</td>\n",
       "      <td>2439</td>\n",
       "      <td>1670</td>\n",
       "      <td>1594</td>\n",
       "      <td>9059</td>\n",
       "      <td>5600</td>\n",
       "      <td>3702</td>\n",
       "      <td>...</td>\n",
       "      <td>1283</td>\n",
       "      <td>1611</td>\n",
       "      <td>639</td>\n",
       "      <td>967</td>\n",
       "      <td>190</td>\n",
       "      <td>894</td>\n",
       "      <td>1496</td>\n",
       "      <td>495</td>\n",
       "      <td>4720</td>\n",
       "      <td>2220</td>\n",
       "    </tr>\n",
       "  </tbody>\n",
       "</table>\n",
       "<p>5 rows × 24 columns</p>\n",
       "</div>"
      ],
      "text/plain": [
       "            Academic researcher  Data or business analyst  \\\n",
       "HTML/CSS                   3313                      3909   \n",
       "Java                       2506                      2138   \n",
       "JavaScript                 3217                      3860   \n",
       "Python                     3621                      3264   \n",
       "C++                        2364                      1218   \n",
       "\n",
       "            Data scientist or machine learning specialist  \\\n",
       "HTML/CSS                                             3258   \n",
       "Java                                                 2453   \n",
       "JavaScript                                           3319   \n",
       "Python                                               5125   \n",
       "C++                                                  2066   \n",
       "\n",
       "            Database administrator  Designer  DevOps specialist  \\\n",
       "HTML/CSS                      7253      7243               5907   \n",
       "Java                          3657      3621               3651   \n",
       "JavaScript                    7436      7192               6529   \n",
       "Python                        3945      3238               4647   \n",
       "C++                           2130      2439               1670   \n",
       "\n",
       "            Developer, QA or test  Developer, back-end  \\\n",
       "HTML/CSS                     4471                26605   \n",
       "Java                         2876                17904   \n",
       "JavaScript                   4666                29372   \n",
       "Python                       2676                16537   \n",
       "C++                          1594                 9059   \n",
       "\n",
       "            Developer, desktop or enterprise applications  \\\n",
       "HTML/CSS                                            11178   \n",
       "Java                                                 7739   \n",
       "JavaScript                                          11748   \n",
       "Python                                               6274   \n",
       "C++                                                  5600   \n",
       "\n",
       "            Developer, embedded applications or devices  ...  Educator  \\\n",
       "HTML/CSS                                           4186  ...      3151   \n",
       "Java                                               3207  ...      1988   \n",
       "JavaScript                                         4413  ...      3151   \n",
       "Python                                             3693  ...      2112   \n",
       "C++                                                3702  ...      1283   \n",
       "\n",
       "            Engineer, data  Engineer, site reliability  Engineering manager  \\\n",
       "HTML/CSS              3286                        1853                 2732   \n",
       "Java                  2484                        1198                 1673   \n",
       "JavaScript            3499                        2049                 3040   \n",
       "Python                3742                        1748                 1969   \n",
       "C++                   1611                         639                  967   \n",
       "\n",
       "            Marketing or sales professional  Product manager  Scientist  \\\n",
       "HTML/CSS                                749             2900       1846   \n",
       "Java                                    322             1429       1262   \n",
       "JavaScript                              700             3024       1764   \n",
       "Python                                  373             1598       2513   \n",
       "C++                                     190              894       1496   \n",
       "\n",
       "            Senior executive/VP  Student  System administrator  \n",
       "HTML/CSS                   1513     8122                  6480  \n",
       "Java                        766     6482                  3484  \n",
       "JavaScript                 1600     7574                  6558  \n",
       "Python                      977     6481                  4586  \n",
       "C++                         495     4720                  2220  \n",
       "\n",
       "[5 rows x 24 columns]"
      ]
     },
     "execution_count": 151,
     "metadata": {},
     "output_type": "execute_result"
    }
   ],
   "source": [
    "developer_language_count.head()"
   ]
  },
  {
   "cell_type": "code",
   "execution_count": 174,
   "metadata": {
    "scrolled": false
   },
   "outputs": [
    {
     "data": {
      "image/png": "[encoded data removed]",
      "text/plain": [
       "<Figure size 864x864 with 1 Axes>"
      ]
     },
     "metadata": {
      "needs_background": "light"
     },
     "output_type": "display_data"
    }
   ],
   "source": [
    "# good, now we have a dataframe of language by developer\n",
    "\n",
    "# lets now get a distribution to answer our question\n",
    "ds_count = pd.DataFrame(developer_language_count['Data scientist or machine learning specialist'])\n",
    "ds_count.columns = ['Count']\n",
    "ds_count.sort_values('Count',ascending=True,inplace=True)\n",
    "\n",
    "ds_count.plot(kind = 'barh', figsize = (12,12), fontsize = 10, title = 'Total Count');"
   ]
  },
  {
   "cell_type": "markdown",
   "metadata": {},
   "source": [
    "---\n",
    "__Insight__\n",
    "\n",
    "Python is by far the language of choice for developers who identify as Data scientist or ML specialist. For those desiring to enter the data science or machine learning landscape, learning python is definitely a good investment.\n",
    "\n",
    "---"
   ]
  },
  {
   "cell_type": "markdown",
   "metadata": {},
   "source": [
    "---\n",
    "\n",
    "# What's the pay for developers like?\n",
    "\n",
    "---"
   ]
  },
  {
   "cell_type": "code",
   "execution_count": 153,
   "metadata": {
    "colab_type": "text",
    "id": "bU-tN-jmq7zi"
   },
   "outputs": [
    {
     "name": "stdout",
     "output_type": "stream",
     "text": [
      "Which of the following describe you? Please select all that apply.\n",
      "In which country do you currently reside?\n",
      "Salary converted to annual USD salaries using the exchange rate on 2019-02-01, assuming 12 working months and 50 working weeks.\n"
     ]
    }
   ],
   "source": [
    "salaries_df = df[['DevType', 'Country','ConvertedComp']]\n",
    "\n",
    "for column in salaries_df.columns.tolist():\n",
    "    col_desc = schema[schema['Column']==column]['QuestionText'].iloc[0]\n",
    "    print(col_desc)"
   ]
  },
  {
   "cell_type": "code",
   "execution_count": 154,
   "metadata": {},
   "outputs": [
    {
     "data": {
      "text/plain": [
       "DevType           7548\n",
       "Country            132\n",
       "ConvertedComp    33060\n",
       "dtype: int64"
      ]
     },
     "execution_count": 154,
     "metadata": {},
     "output_type": "execute_result"
    }
   ],
   "source": [
    "# Lets check for missing values in salaries_df\n",
    "salaries_df.isnull().sum()"
   ]
  },
  {
   "cell_type": "code",
   "execution_count": 155,
   "metadata": {},
   "outputs": [
    {
     "data": {
      "text/plain": [
       "DevType           8.5\n",
       "Country           0.1\n",
       "ConvertedComp    37.2\n",
       "dtype: float64"
      ]
     },
     "execution_count": 155,
     "metadata": {},
     "output_type": "execute_result"
    }
   ],
   "source": [
    "# salaries_df missing values in %\n",
    "round((salaries_df.isnull().sum()/salaries_df.shape[0])*100,1)"
   ]
  },
  {
   "cell_type": "markdown",
   "metadata": {},
   "source": [
    "---\n",
    "__Insight__\n",
    "\n",
    "it seems that a large number of developers do not reveal their salaries, and this could be due to privacy concerns.\n",
    "\n",
    "---"
   ]
  },
  {
   "cell_type": "markdown",
   "metadata": {},
   "source": [
    "To assess the pay for developers, we will make use of salaries distribution by country. This allows us to compare like with like."
   ]
  },
  {
   "cell_type": "code",
   "execution_count": 156,
   "metadata": {},
   "outputs": [
    {
     "data": {
      "text/html": [
       "<div>\n",
       "<style scoped>\n",
       "    .dataframe tbody tr th:only-of-type {\n",
       "        vertical-align: middle;\n",
       "    }\n",
       "\n",
       "    .dataframe tbody tr th {\n",
       "        vertical-align: top;\n",
       "    }\n",
       "\n",
       "    .dataframe thead th {\n",
       "        text-align: right;\n",
       "    }\n",
       "</style>\n",
       "<table border=\"1\" class=\"dataframe\">\n",
       "  <thead>\n",
       "    <tr style=\"text-align: right;\">\n",
       "      <th></th>\n",
       "      <th>index</th>\n",
       "      <th>DevType</th>\n",
       "      <th>Country</th>\n",
       "      <th>ConvertedComp</th>\n",
       "    </tr>\n",
       "  </thead>\n",
       "  <tbody>\n",
       "    <tr>\n",
       "      <th>0</th>\n",
       "      <td>2</td>\n",
       "      <td>Designer;Developer, back-end;Developer, front-...</td>\n",
       "      <td>Thailand</td>\n",
       "      <td>8820.0</td>\n",
       "    </tr>\n",
       "    <tr>\n",
       "      <th>1</th>\n",
       "      <td>3</td>\n",
       "      <td>Developer, full-stack</td>\n",
       "      <td>United States</td>\n",
       "      <td>61000.0</td>\n",
       "    </tr>\n",
       "    <tr>\n",
       "      <th>2</th>\n",
       "      <td>5</td>\n",
       "      <td>Data or business analyst;Data scientist or mac...</td>\n",
       "      <td>Canada</td>\n",
       "      <td>366420.0</td>\n",
       "    </tr>\n",
       "    <tr>\n",
       "      <th>3</th>\n",
       "      <td>8</td>\n",
       "      <td>Database administrator;Developer, back-end;Dev...</td>\n",
       "      <td>New Zealand</td>\n",
       "      <td>95179.0</td>\n",
       "    </tr>\n",
       "    <tr>\n",
       "      <th>4</th>\n",
       "      <td>9</td>\n",
       "      <td>Data or business analyst;Data scientist or mac...</td>\n",
       "      <td>India</td>\n",
       "      <td>13293.0</td>\n",
       "    </tr>\n",
       "  </tbody>\n",
       "</table>\n",
       "</div>"
      ],
      "text/plain": [
       "   index                                            DevType        Country  \\\n",
       "0      2  Designer;Developer, back-end;Developer, front-...       Thailand   \n",
       "1      3                              Developer, full-stack  United States   \n",
       "2      5  Data or business analyst;Data scientist or mac...         Canada   \n",
       "3      8  Database administrator;Developer, back-end;Dev...    New Zealand   \n",
       "4      9  Data or business analyst;Data scientist or mac...          India   \n",
       "\n",
       "   ConvertedComp  \n",
       "0         8820.0  \n",
       "1        61000.0  \n",
       "2       366420.0  \n",
       "3        95179.0  \n",
       "4        13293.0  "
      ]
     },
     "execution_count": 156,
     "metadata": {},
     "output_type": "execute_result"
    }
   ],
   "source": [
    "# drop rows with missing values from salaries df\n",
    "clean_salaries_df = salaries_df.dropna().reset_index()\n",
    "clean_salaries_df.head()"
   ]
  },
  {
   "cell_type": "code",
   "execution_count": 157,
   "metadata": {},
   "outputs": [
    {
     "data": {
      "text/plain": [
       "(55081, 4)"
      ]
     },
     "execution_count": 157,
     "metadata": {},
     "output_type": "execute_result"
    }
   ],
   "source": [
    "clean_salaries_df.shape"
   ]
  },
  {
   "cell_type": "code",
   "execution_count": 158,
   "metadata": {},
   "outputs": [
    {
     "data": {
      "text/html": [
       "<div>\n",
       "<style scoped>\n",
       "    .dataframe tbody tr th:only-of-type {\n",
       "        vertical-align: middle;\n",
       "    }\n",
       "\n",
       "    .dataframe tbody tr th {\n",
       "        vertical-align: top;\n",
       "    }\n",
       "\n",
       "    .dataframe thead th {\n",
       "        text-align: right;\n",
       "    }\n",
       "</style>\n",
       "<table border=\"1\" class=\"dataframe\">\n",
       "  <thead>\n",
       "    <tr style=\"text-align: right;\">\n",
       "      <th></th>\n",
       "      <th>index</th>\n",
       "      <th>Country</th>\n",
       "    </tr>\n",
       "  </thead>\n",
       "  <tbody>\n",
       "    <tr>\n",
       "      <th>0</th>\n",
       "      <td>United States</td>\n",
       "      <td>14756</td>\n",
       "    </tr>\n",
       "    <tr>\n",
       "      <th>1</th>\n",
       "      <td>United Kingdom</td>\n",
       "      <td>3967</td>\n",
       "    </tr>\n",
       "    <tr>\n",
       "      <th>2</th>\n",
       "      <td>India</td>\n",
       "      <td>3953</td>\n",
       "    </tr>\n",
       "    <tr>\n",
       "      <th>3</th>\n",
       "      <td>Germany</td>\n",
       "      <td>3734</td>\n",
       "    </tr>\n",
       "    <tr>\n",
       "      <th>4</th>\n",
       "      <td>Canada</td>\n",
       "      <td>2225</td>\n",
       "    </tr>\n",
       "    <tr>\n",
       "      <th>5</th>\n",
       "      <td>France</td>\n",
       "      <td>1619</td>\n",
       "    </tr>\n",
       "    <tr>\n",
       "      <th>6</th>\n",
       "      <td>Brazil</td>\n",
       "      <td>1395</td>\n",
       "    </tr>\n",
       "    <tr>\n",
       "      <th>7</th>\n",
       "      <td>Poland</td>\n",
       "      <td>1307</td>\n",
       "    </tr>\n",
       "    <tr>\n",
       "      <th>8</th>\n",
       "      <td>Australia</td>\n",
       "      <td>1233</td>\n",
       "    </tr>\n",
       "    <tr>\n",
       "      <th>9</th>\n",
       "      <td>Spain</td>\n",
       "      <td>1189</td>\n",
       "    </tr>\n",
       "    <tr>\n",
       "      <th>10</th>\n",
       "      <td>Netherlands</td>\n",
       "      <td>1184</td>\n",
       "    </tr>\n",
       "    <tr>\n",
       "      <th>11</th>\n",
       "      <td>Russian Federation</td>\n",
       "      <td>1095</td>\n",
       "    </tr>\n",
       "    <tr>\n",
       "      <th>12</th>\n",
       "      <td>Italy</td>\n",
       "      <td>932</td>\n",
       "    </tr>\n",
       "    <tr>\n",
       "      <th>13</th>\n",
       "      <td>Sweden</td>\n",
       "      <td>901</td>\n",
       "    </tr>\n",
       "    <tr>\n",
       "      <th>14</th>\n",
       "      <td>Switzerland</td>\n",
       "      <td>663</td>\n",
       "    </tr>\n",
       "    <tr>\n",
       "      <th>15</th>\n",
       "      <td>Israel</td>\n",
       "      <td>569</td>\n",
       "    </tr>\n",
       "    <tr>\n",
       "      <th>16</th>\n",
       "      <td>Ukraine</td>\n",
       "      <td>535</td>\n",
       "    </tr>\n",
       "    <tr>\n",
       "      <th>17</th>\n",
       "      <td>Austria</td>\n",
       "      <td>500</td>\n",
       "    </tr>\n",
       "    <tr>\n",
       "      <th>18</th>\n",
       "      <td>Turkey</td>\n",
       "      <td>496</td>\n",
       "    </tr>\n",
       "    <tr>\n",
       "      <th>19</th>\n",
       "      <td>Czech Republic</td>\n",
       "      <td>477</td>\n",
       "    </tr>\n",
       "    <tr>\n",
       "      <th>20</th>\n",
       "      <td>Mexico</td>\n",
       "      <td>457</td>\n",
       "    </tr>\n",
       "    <tr>\n",
       "      <th>21</th>\n",
       "      <td>Belgium</td>\n",
       "      <td>456</td>\n",
       "    </tr>\n",
       "    <tr>\n",
       "      <th>22</th>\n",
       "      <td>Pakistan</td>\n",
       "      <td>421</td>\n",
       "    </tr>\n",
       "    <tr>\n",
       "      <th>23</th>\n",
       "      <td>Norway</td>\n",
       "      <td>415</td>\n",
       "    </tr>\n",
       "    <tr>\n",
       "      <th>24</th>\n",
       "      <td>Iran</td>\n",
       "      <td>415</td>\n",
       "    </tr>\n",
       "    <tr>\n",
       "      <th>25</th>\n",
       "      <td>South Africa</td>\n",
       "      <td>414</td>\n",
       "    </tr>\n",
       "    <tr>\n",
       "      <th>26</th>\n",
       "      <td>Denmark</td>\n",
       "      <td>413</td>\n",
       "    </tr>\n",
       "    <tr>\n",
       "      <th>27</th>\n",
       "      <td>Romania</td>\n",
       "      <td>409</td>\n",
       "    </tr>\n",
       "    <tr>\n",
       "      <th>28</th>\n",
       "      <td>Bulgaria</td>\n",
       "      <td>401</td>\n",
       "    </tr>\n",
       "    <tr>\n",
       "      <th>29</th>\n",
       "      <td>Argentina</td>\n",
       "      <td>389</td>\n",
       "    </tr>\n",
       "    <tr>\n",
       "      <th>...</th>\n",
       "      <td>...</td>\n",
       "      <td>...</td>\n",
       "    </tr>\n",
       "    <tr>\n",
       "      <th>130</th>\n",
       "      <td>Mozambique</td>\n",
       "      <td>4</td>\n",
       "    </tr>\n",
       "    <tr>\n",
       "      <th>131</th>\n",
       "      <td>Botswana</td>\n",
       "      <td>3</td>\n",
       "    </tr>\n",
       "    <tr>\n",
       "      <th>132</th>\n",
       "      <td>Turkmenistan</td>\n",
       "      <td>3</td>\n",
       "    </tr>\n",
       "    <tr>\n",
       "      <th>133</th>\n",
       "      <td>Congo, Republic of the...</td>\n",
       "      <td>3</td>\n",
       "    </tr>\n",
       "    <tr>\n",
       "      <th>134</th>\n",
       "      <td>Burundi</td>\n",
       "      <td>2</td>\n",
       "    </tr>\n",
       "    <tr>\n",
       "      <th>135</th>\n",
       "      <td>Tajikistan</td>\n",
       "      <td>2</td>\n",
       "    </tr>\n",
       "    <tr>\n",
       "      <th>136</th>\n",
       "      <td>Haiti</td>\n",
       "      <td>2</td>\n",
       "    </tr>\n",
       "    <tr>\n",
       "      <th>137</th>\n",
       "      <td>Fiji</td>\n",
       "      <td>2</td>\n",
       "    </tr>\n",
       "    <tr>\n",
       "      <th>138</th>\n",
       "      <td>Monaco</td>\n",
       "      <td>2</td>\n",
       "    </tr>\n",
       "    <tr>\n",
       "      <th>139</th>\n",
       "      <td>San Marino</td>\n",
       "      <td>2</td>\n",
       "    </tr>\n",
       "    <tr>\n",
       "      <th>140</th>\n",
       "      <td>Andorra</td>\n",
       "      <td>2</td>\n",
       "    </tr>\n",
       "    <tr>\n",
       "      <th>141</th>\n",
       "      <td>Angola</td>\n",
       "      <td>1</td>\n",
       "    </tr>\n",
       "    <tr>\n",
       "      <th>142</th>\n",
       "      <td>Timor-Leste</td>\n",
       "      <td>1</td>\n",
       "    </tr>\n",
       "    <tr>\n",
       "      <th>143</th>\n",
       "      <td>Seychelles</td>\n",
       "      <td>1</td>\n",
       "    </tr>\n",
       "    <tr>\n",
       "      <th>144</th>\n",
       "      <td>Brunei Darussalam</td>\n",
       "      <td>1</td>\n",
       "    </tr>\n",
       "    <tr>\n",
       "      <th>145</th>\n",
       "      <td>Djibouti</td>\n",
       "      <td>1</td>\n",
       "    </tr>\n",
       "    <tr>\n",
       "      <th>146</th>\n",
       "      <td>Malawi</td>\n",
       "      <td>1</td>\n",
       "    </tr>\n",
       "    <tr>\n",
       "      <th>147</th>\n",
       "      <td>Chad</td>\n",
       "      <td>1</td>\n",
       "    </tr>\n",
       "    <tr>\n",
       "      <th>148</th>\n",
       "      <td>Lao People's Democratic Republic</td>\n",
       "      <td>1</td>\n",
       "    </tr>\n",
       "    <tr>\n",
       "      <th>149</th>\n",
       "      <td>Burkina Faso</td>\n",
       "      <td>1</td>\n",
       "    </tr>\n",
       "    <tr>\n",
       "      <th>150</th>\n",
       "      <td>Liechtenstein</td>\n",
       "      <td>1</td>\n",
       "    </tr>\n",
       "    <tr>\n",
       "      <th>151</th>\n",
       "      <td>Mali</td>\n",
       "      <td>1</td>\n",
       "    </tr>\n",
       "    <tr>\n",
       "      <th>152</th>\n",
       "      <td>Barbados</td>\n",
       "      <td>1</td>\n",
       "    </tr>\n",
       "    <tr>\n",
       "      <th>153</th>\n",
       "      <td>Lesotho</td>\n",
       "      <td>1</td>\n",
       "    </tr>\n",
       "    <tr>\n",
       "      <th>154</th>\n",
       "      <td>Democratic People's Republic of Korea</td>\n",
       "      <td>1</td>\n",
       "    </tr>\n",
       "    <tr>\n",
       "      <th>155</th>\n",
       "      <td>Togo</td>\n",
       "      <td>1</td>\n",
       "    </tr>\n",
       "    <tr>\n",
       "      <th>156</th>\n",
       "      <td>Democratic Republic of the Congo</td>\n",
       "      <td>1</td>\n",
       "    </tr>\n",
       "    <tr>\n",
       "      <th>157</th>\n",
       "      <td>Guinea</td>\n",
       "      <td>1</td>\n",
       "    </tr>\n",
       "    <tr>\n",
       "      <th>158</th>\n",
       "      <td>Saint Vincent and the Grenadines</td>\n",
       "      <td>1</td>\n",
       "    </tr>\n",
       "    <tr>\n",
       "      <th>159</th>\n",
       "      <td>Oman</td>\n",
       "      <td>1</td>\n",
       "    </tr>\n",
       "  </tbody>\n",
       "</table>\n",
       "<p>160 rows × 2 columns</p>\n",
       "</div>"
      ],
      "text/plain": [
       "                                     index  Country\n",
       "0                            United States    14756\n",
       "1                           United Kingdom     3967\n",
       "2                                    India     3953\n",
       "3                                  Germany     3734\n",
       "4                                   Canada     2225\n",
       "5                                   France     1619\n",
       "6                                   Brazil     1395\n",
       "7                                   Poland     1307\n",
       "8                                Australia     1233\n",
       "9                                    Spain     1189\n",
       "10                             Netherlands     1184\n",
       "11                      Russian Federation     1095\n",
       "12                                   Italy      932\n",
       "13                                  Sweden      901\n",
       "14                             Switzerland      663\n",
       "15                                  Israel      569\n",
       "16                                 Ukraine      535\n",
       "17                                 Austria      500\n",
       "18                                  Turkey      496\n",
       "19                          Czech Republic      477\n",
       "20                                  Mexico      457\n",
       "21                                 Belgium      456\n",
       "22                                Pakistan      421\n",
       "23                                  Norway      415\n",
       "24                                    Iran      415\n",
       "25                            South Africa      414\n",
       "26                                 Denmark      413\n",
       "27                                 Romania      409\n",
       "28                                Bulgaria      401\n",
       "29                               Argentina      389\n",
       "..                                     ...      ...\n",
       "130                             Mozambique        4\n",
       "131                               Botswana        3\n",
       "132                           Turkmenistan        3\n",
       "133              Congo, Republic of the...        3\n",
       "134                                Burundi        2\n",
       "135                             Tajikistan        2\n",
       "136                                  Haiti        2\n",
       "137                                   Fiji        2\n",
       "138                                 Monaco        2\n",
       "139                             San Marino        2\n",
       "140                                Andorra        2\n",
       "141                                 Angola        1\n",
       "142                            Timor-Leste        1\n",
       "143                             Seychelles        1\n",
       "144                      Brunei Darussalam        1\n",
       "145                               Djibouti        1\n",
       "146                                 Malawi        1\n",
       "147                                   Chad        1\n",
       "148       Lao People's Democratic Republic        1\n",
       "149                           Burkina Faso        1\n",
       "150                          Liechtenstein        1\n",
       "151                                   Mali        1\n",
       "152                               Barbados        1\n",
       "153                                Lesotho        1\n",
       "154  Democratic People's Republic of Korea        1\n",
       "155                                   Togo        1\n",
       "156       Democratic Republic of the Congo        1\n",
       "157                                 Guinea        1\n",
       "158       Saint Vincent and the Grenadines        1\n",
       "159                                   Oman        1\n",
       "\n",
       "[160 rows x 2 columns]"
      ]
     },
     "execution_count": 158,
     "metadata": {},
     "output_type": "execute_result"
    }
   ],
   "source": [
    "# Lets make a count of developer by country\n",
    "clean_salaries_df.Country.value_counts().reset_index()"
   ]
  },
  {
   "cell_type": "markdown",
   "metadata": {},
   "source": [
    "Wow, very interesting!\n",
    "\n",
    "A large number of countries are under-represented, the US has by far the largest of respondents."
   ]
  },
  {
   "cell_type": "code",
   "execution_count": 159,
   "metadata": {
    "colab": {
     "base_uri": "https://localhost:8080/",
     "height": 729
    },
    "colab_type": "code",
    "id": "goeZsJNx9JA1",
    "outputId": "65c62337-9cc7-4867-a4d7-d81cb4f69ba0"
   },
   "outputs": [
    {
     "data": {
      "image/png": "[encoded data removed]",
      "text/plain": [
       "<Figure size 1080x720 with 9 Axes>"
      ]
     },
     "metadata": {
      "needs_background": "light"
     },
     "output_type": "display_data"
    }
   ],
   "source": [
    "# now lets plot salary distributions for the top 10 countries\n",
    "\n",
    "fig = plt.figure(figsize=(15,10))\n",
    "\n",
    "countries = clean_salaries_df['Country'].value_counts().sort_values(ascending=False)[:9].index.tolist()\n",
    "\n",
    "for i,country in enumerate(countries):\n",
    "    plt.subplot(3,3,i+1)\n",
    "    temp_salaries = clean_salaries_df.loc[clean_salaries_df['Country']==country,'ConvertedComp']\n",
    "\n",
    "    ax = temp_salaries.plot(kind='kde')\n",
    "    ax.axvline(temp_salaries.mean(), linestyle = '-', color = 'red')\n",
    "    ax.text((temp_salaries.mean() + 1500), (float(ax.get_ylim()[1])*0.55), 'mean = $ ' + str(round(temp_salaries.mean(),0)), fontsize = 12)\n",
    "    ax.set_xlabel('Annual Salary in USD')\n",
    "    ax.set_xlim(-temp_salaries.mean(),temp_salaries.mean()+2*temp_salaries.std())\n",
    "    \n",
    "    ax.set_title('Annual Salary Distribution in {}'.format(country))\n",
    "\n",
    "plt.tight_layout()\n",
    "plt.savefig('developer_salaries_by_country.png',bbox_inches = 'tight')\n",
    "plt.show()"
   ]
  },
  {
   "cell_type": "markdown",
   "metadata": {},
   "source": [
    "---\n",
    "\n",
    "The US has by far the highest salaries.\n",
    "\n",
    "While the analysis is useful, we would like to know the distributions for data science related developers.\n",
    "\n",
    "---"
   ]
  },
  {
   "cell_type": "code",
   "execution_count": 160,
   "metadata": {},
   "outputs": [],
   "source": [
    "# get the developer type salaries\n",
    "developer_salary_df = df[['DevType','Country','ConvertedComp']]\n",
    "# drop all rows with NaNs\n",
    "clean_developer_salary_df = developer_salary_df.dropna()"
   ]
  },
  {
   "cell_type": "code",
   "execution_count": 161,
   "metadata": {
    "colab": {},
    "colab_type": "code",
    "id": "4-gQrhLBpZwP"
   },
   "outputs": [],
   "source": [
    "# get a list of countries\n",
    "developer_countries = list(clean_salaries_df['Country'].value_counts().index)\n",
    "\n",
    "# create a dictionary with country name as key and initialised with 0 for each corresponding country key value\n",
    "developer_salary_dict = {key: 0 for key in developer_countries}\n",
    "\n",
    "# now for each country in dict, we want to put developer type and initialise to an empty list\n",
    "for developer in developer_salary_dict.keys():\n",
    "    developer_salary_dict[developer] = {key: [] for key in developer_count.index.tolist()}\n",
    "\n",
    "# lets now populate developer salary dict with salaries per developer type per country\n",
    "for key, val in enumerate(clean_developer_salary_df['DevType']):\n",
    "    all_developers = val.split(';')\n",
    "    country = clean_developer_salary_df.iloc[key, 1]\n",
    "    salary = clean_developer_salary_df.iloc[key, 2]\n",
    "    \n",
    "    for developer in all_developers:\n",
    "        developer_salary_dict[country][developer].append(salary)"
   ]
  },
  {
   "cell_type": "code",
   "execution_count": 162,
   "metadata": {
    "colab": {},
    "colab_type": "code",
    "id": "Mm4MflBNu0HB"
   },
   "outputs": [
    {
     "data": {
      "image/png": "[encoded data removed]",
      "text/plain": [
       "<Figure size 432x288 with 1 Axes>"
      ]
     },
     "metadata": {
      "needs_background": "light"
     },
     "output_type": "display_data"
    }
   ],
   "source": [
    "# Now lets visualise the salaries for data science related developers in the USA\n",
    "dev_type = 'Data scientist or machine learning specialist'\n",
    "\n",
    "figsize = (15,10)\n",
    "df1 = pd.DataFrame({'Annual Salary (US$)':developer_salary_dict['United States'][dev_type]})\n",
    "ax = df1.plot(kind = 'kde')\n",
    "mean = df1['Annual Salary (US$)'].mean()\n",
    "\n",
    "ax.axvline(mean, linestyle = '-', color = 'red')\n",
    "ax.text((mean + 1500), (float(ax.get_ylim()[1])*0.75), 'mean = $ ' + str(round(mean,0)), fontsize = 12)\n",
    "ax.set_xlabel('Annual Salary in USD')\n",
    "ax.set_xlim(-mean,mean+2*temp.std())\n",
    "ax.set_title('Annual Salary Distribution of {} in {}'.format(dev_type, 'United States'), fontsize = 15, y = 1.05)\n",
    "plt.savefig('salaries_for_data_science_usa',bbox_inches = 'tight')\n",
    "plt.show()"
   ]
  },
  {
   "cell_type": "markdown",
   "metadata": {
    "colab_type": "text",
    "id": "0At64U5pOxWV"
   },
   "source": [
    "The mean salaries are much higher than the overall average for USA."
   ]
  },
  {
   "cell_type": "markdown",
   "metadata": {},
   "source": [
    "---\n",
    "\n",
    "# What is the framework of choice for developers?\n",
    "\n",
    "---"
   ]
  },
  {
   "cell_type": "markdown",
   "metadata": {
    "colab_type": "text",
    "id": "z7VqrtxVutFg"
   },
   "source": [
    "Woohoo! Looks like as it is, I can make it! However, the model is only 82% accurate and my case just could be a false positive. So I'll keep my fingers crossed and keep working hard!\n",
    "\n",
    "Feel free to use this model if you are considering starting a new career as a developer and fretting over the same things as me when I started.\n",
    "\n",
    "If you do use this model and get a negative result, here are a few things to keep in mind:\n",
    "*   This is a very simple model with an accuracy of just 81%.\n",
    "*   You could be a false negative.\n",
    "* The defination of 'making it' used here is not perfect.\n",
    "*   **If you love what you do and work hard, you *will* make it.**\n",
    "\n",
    "\n",
    "\n",
    "That's it for this project. Thank you for following along my work. If you are looking to start off this journey, I only wish you the best.\n",
    "\n",
    "\n",
    "\n",
    "\n"
   ]
  },
  {
   "cell_type": "code",
   "execution_count": 163,
   "metadata": {},
   "outputs": [
    {
     "data": {
      "image/png": "[encoded data removed]",
      "text/plain": [
       "<Figure size 432x288 with 1 Axes>"
      ]
     },
     "metadata": {
      "needs_background": "light"
     },
     "output_type": "display_data"
    }
   ],
   "source": [
    "count_values = df.WebFrameWorkedWith.value_counts()#Provide a pandas series of the counts for each LanguageWorkedWith\n",
    "\n",
    "# display the top 10\n",
    "\n",
    "(count_values[:10]/df.shape[0]).plot(kind=\"bar\");\n",
    "plt.title(\"Web Framework\");"
   ]
  },
  {
   "cell_type": "code",
   "execution_count": 164,
   "metadata": {},
   "outputs": [],
   "source": [
    "# the format of web frameworks needs to be cleaned up, this is because for developers using multiple frameworks, \n",
    "# those frameworks are concatenated with ;"
   ]
  },
  {
   "cell_type": "code",
   "execution_count": 165,
   "metadata": {},
   "outputs": [],
   "source": [
    "# We have to split the WebFrameWorkedWithto get a proper picture\n",
    "frameworks = df[df['WebFrameWorkedWith'].notnull()]\n",
    "\n",
    "unique_frameworks = {}\n",
    "\n",
    "# split the webframework on ;\n",
    "for framework_set in frameworks['WebFrameWorkedWith'].apply(lambda row: str(row).split(';')):\n",
    "    for framework in framework_set:\n",
    "        if framework not in unique_frameworks.keys():\n",
    "            unique_frameworks[framework] = 1\n",
    "        else:\n",
    "            unique_frameworks[framework] += 1\n",
    "    "
   ]
  },
  {
   "cell_type": "code",
   "execution_count": 166,
   "metadata": {},
   "outputs": [
    {
     "data": {
      "image/png": "[encoded data removed]",
      "text/plain": [
       "<Figure size 864x864 with 1 Axes>"
      ]
     },
     "metadata": {
      "needs_background": "light"
     },
     "output_type": "display_data"
    }
   ],
   "source": [
    "# let make a bar graph\n",
    "framework_count = pd.DataFrame.from_dict(unique_frameworks, orient='index', dtype=None)\n",
    "framework_count.columns = ['Count']\n",
    "framework_count.sort_values('Count',ascending=True,inplace=True)\n",
    "\n",
    "framework_count.plot(kind = 'barh', figsize = (12,12), fontsize = 10, title = 'The Most Popular Framework');"
   ]
  },
  {
   "cell_type": "markdown",
   "metadata": {},
   "source": [
    "---\n",
    "\n",
    "Although it's satisfying to know the most popular frameworks, this alone does not help in knowing the most popular framework for data science. So, we are going to take a slightly different root.\n",
    "\n",
    "---"
   ]
  },
  {
   "cell_type": "code",
   "execution_count": 167,
   "metadata": {},
   "outputs": [],
   "source": [
    "# We have to split the WebFrameWorkedWith to get a proper picture\n",
    "\n",
    "# Lets get unique developers\n",
    "developers = df[df['DevType'].notnull()] # drop null values\n",
    "\n",
    "unique_developers = {}\n",
    "\n",
    "# split the developer on ;\n",
    "for developer_set in developers['DevType'].apply(lambda row: str(row).split(';')):\n",
    "    for developer in developer_set:\n",
    "        if developer not in unique_developers.keys():\n",
    "            unique_developers[developer] = 1\n",
    "        else:\n",
    "            unique_developers[developer] += 1"
   ]
  },
  {
   "cell_type": "code",
   "execution_count": 168,
   "metadata": {},
   "outputs": [
    {
     "data": {
      "image/png": "[encoded data removed]",
      "text/plain": [
       "<Figure size 864x864 with 1 Axes>"
      ]
     },
     "metadata": {
      "needs_background": "light"
     },
     "output_type": "display_data"
    }
   ],
   "source": [
    "# lets make a bar graph\n",
    "developer_count = pd.DataFrame.from_dict(unique_developers, orient='index', dtype=None)\n",
    "developer_count.columns = ['Count']\n",
    "developer_count.sort_values('Count',ascending=True,inplace=True)\n",
    "\n",
    "developer_count.plot(kind = 'barh', figsize = (12,12), fontsize = 10, title = 'Developer respondents');"
   ]
  },
  {
   "cell_type": "markdown",
   "metadata": {},
   "source": [
    "Since we are interested in Data Science language of choice, we will focus on 'Data scientist or machine learning specialist'"
   ]
  },
  {
   "cell_type": "code",
   "execution_count": 169,
   "metadata": {},
   "outputs": [],
   "source": [
    "# now for each 'Data scientist or machine learning specialist' developer, lets get framework counts\n",
    "frameworks = frameworks[frameworks['DevType'].notnull()]\n",
    "\n",
    "# lets create an empty developer dict\n",
    "developer_dict = {}\n",
    "for devtype in developer_count.index.tolist():\n",
    "    developer_dict['{}'.format(devtype)] = {}\n",
    "\n",
    "# populate the dictionary with frameworks\n",
    "for dev in developer_dict.keys():\n",
    "    developer_dict[dev] = {key: 0 for key in list(unique_frameworks.keys())}\n",
    "    \n",
    "# now lets count the number of developers using the framework\n",
    "for key, val in enumerate(frameworks['DevType']):\n",
    "    all_developers = val.split(';')\n",
    "    all_frameworks = frameworks.iloc[key, 49].split(';')\n",
    "    for dev in all_developers:\n",
    "        for fra in all_frameworks:\n",
    "            developer_dict[dev][fra] += 1\n",
    "\n",
    "developer_framework_count = pd.DataFrame.from_dict(developer_dict, orient='index', dtype=None).T\n"
   ]
  },
  {
   "cell_type": "code",
   "execution_count": 170,
   "metadata": {
    "scrolled": true
   },
   "outputs": [
    {
     "data": {
      "text/html": [
       "<div>\n",
       "<style scoped>\n",
       "    .dataframe tbody tr th:only-of-type {\n",
       "        vertical-align: middle;\n",
       "    }\n",
       "\n",
       "    .dataframe tbody tr th {\n",
       "        vertical-align: top;\n",
       "    }\n",
       "\n",
       "    .dataframe thead th {\n",
       "        text-align: right;\n",
       "    }\n",
       "</style>\n",
       "<table border=\"1\" class=\"dataframe\">\n",
       "  <thead>\n",
       "    <tr style=\"text-align: right;\">\n",
       "      <th></th>\n",
       "      <th>Academic researcher</th>\n",
       "      <th>Data or business analyst</th>\n",
       "      <th>Data scientist or machine learning specialist</th>\n",
       "      <th>Database administrator</th>\n",
       "      <th>Designer</th>\n",
       "      <th>DevOps specialist</th>\n",
       "      <th>Developer, QA or test</th>\n",
       "      <th>Developer, back-end</th>\n",
       "      <th>Developer, desktop or enterprise applications</th>\n",
       "      <th>Developer, embedded applications or devices</th>\n",
       "      <th>...</th>\n",
       "      <th>Educator</th>\n",
       "      <th>Engineer, data</th>\n",
       "      <th>Engineer, site reliability</th>\n",
       "      <th>Engineering manager</th>\n",
       "      <th>Marketing or sales professional</th>\n",
       "      <th>Product manager</th>\n",
       "      <th>Scientist</th>\n",
       "      <th>Senior executive/VP</th>\n",
       "      <th>Student</th>\n",
       "      <th>System administrator</th>\n",
       "    </tr>\n",
       "  </thead>\n",
       "  <tbody>\n",
       "    <tr>\n",
       "      <th>Django</th>\n",
       "      <td>765</td>\n",
       "      <td>783</td>\n",
       "      <td>1118</td>\n",
       "      <td>1109</td>\n",
       "      <td>858</td>\n",
       "      <td>1254</td>\n",
       "      <td>647</td>\n",
       "      <td>4455</td>\n",
       "      <td>1247</td>\n",
       "      <td>695</td>\n",
       "      <td>...</td>\n",
       "      <td>581</td>\n",
       "      <td>867</td>\n",
       "      <td>471</td>\n",
       "      <td>496</td>\n",
       "      <td>127</td>\n",
       "      <td>489</td>\n",
       "      <td>471</td>\n",
       "      <td>281</td>\n",
       "      <td>1545</td>\n",
       "      <td>1238</td>\n",
       "    </tr>\n",
       "    <tr>\n",
       "      <th>Flask</th>\n",
       "      <td>750</td>\n",
       "      <td>788</td>\n",
       "      <td>1484</td>\n",
       "      <td>947</td>\n",
       "      <td>640</td>\n",
       "      <td>1360</td>\n",
       "      <td>581</td>\n",
       "      <td>4113</td>\n",
       "      <td>1185</td>\n",
       "      <td>717</td>\n",
       "      <td>...</td>\n",
       "      <td>505</td>\n",
       "      <td>1075</td>\n",
       "      <td>518</td>\n",
       "      <td>484</td>\n",
       "      <td>101</td>\n",
       "      <td>423</td>\n",
       "      <td>500</td>\n",
       "      <td>256</td>\n",
       "      <td>1294</td>\n",
       "      <td>1144</td>\n",
       "    </tr>\n",
       "    <tr>\n",
       "      <th>Express</th>\n",
       "      <td>668</td>\n",
       "      <td>687</td>\n",
       "      <td>684</td>\n",
       "      <td>1514</td>\n",
       "      <td>1491</td>\n",
       "      <td>1705</td>\n",
       "      <td>943</td>\n",
       "      <td>6237</td>\n",
       "      <td>2109</td>\n",
       "      <td>967</td>\n",
       "      <td>...</td>\n",
       "      <td>740</td>\n",
       "      <td>765</td>\n",
       "      <td>537</td>\n",
       "      <td>787</td>\n",
       "      <td>169</td>\n",
       "      <td>730</td>\n",
       "      <td>338</td>\n",
       "      <td>431</td>\n",
       "      <td>1808</td>\n",
       "      <td>1374</td>\n",
       "    </tr>\n",
       "    <tr>\n",
       "      <th>jQuery</th>\n",
       "      <td>1861</td>\n",
       "      <td>2368</td>\n",
       "      <td>1742</td>\n",
       "      <td>4892</td>\n",
       "      <td>4686</td>\n",
       "      <td>3216</td>\n",
       "      <td>2794</td>\n",
       "      <td>16358</td>\n",
       "      <td>6969</td>\n",
       "      <td>2560</td>\n",
       "      <td>...</td>\n",
       "      <td>1818</td>\n",
       "      <td>1871</td>\n",
       "      <td>996</td>\n",
       "      <td>1456</td>\n",
       "      <td>478</td>\n",
       "      <td>1768</td>\n",
       "      <td>930</td>\n",
       "      <td>875</td>\n",
       "      <td>4274</td>\n",
       "      <td>4003</td>\n",
       "    </tr>\n",
       "    <tr>\n",
       "      <th>React.js</th>\n",
       "      <td>918</td>\n",
       "      <td>1001</td>\n",
       "      <td>1084</td>\n",
       "      <td>1963</td>\n",
       "      <td>2299</td>\n",
       "      <td>2469</td>\n",
       "      <td>1444</td>\n",
       "      <td>9357</td>\n",
       "      <td>3178</td>\n",
       "      <td>1324</td>\n",
       "      <td>...</td>\n",
       "      <td>1077</td>\n",
       "      <td>1139</td>\n",
       "      <td>786</td>\n",
       "      <td>1222</td>\n",
       "      <td>227</td>\n",
       "      <td>1092</td>\n",
       "      <td>528</td>\n",
       "      <td>659</td>\n",
       "      <td>2314</td>\n",
       "      <td>1828</td>\n",
       "    </tr>\n",
       "  </tbody>\n",
       "</table>\n",
       "<p>5 rows × 24 columns</p>\n",
       "</div>"
      ],
      "text/plain": [
       "          Academic researcher  Data or business analyst  \\\n",
       "Django                    765                       783   \n",
       "Flask                     750                       788   \n",
       "Express                   668                       687   \n",
       "jQuery                   1861                      2368   \n",
       "React.js                  918                      1001   \n",
       "\n",
       "          Data scientist or machine learning specialist  \\\n",
       "Django                                             1118   \n",
       "Flask                                              1484   \n",
       "Express                                             684   \n",
       "jQuery                                             1742   \n",
       "React.js                                           1084   \n",
       "\n",
       "          Database administrator  Designer  DevOps specialist  \\\n",
       "Django                      1109       858               1254   \n",
       "Flask                        947       640               1360   \n",
       "Express                     1514      1491               1705   \n",
       "jQuery                      4892      4686               3216   \n",
       "React.js                    1963      2299               2469   \n",
       "\n",
       "          Developer, QA or test  Developer, back-end  \\\n",
       "Django                      647                 4455   \n",
       "Flask                       581                 4113   \n",
       "Express                     943                 6237   \n",
       "jQuery                     2794                16358   \n",
       "React.js                   1444                 9357   \n",
       "\n",
       "          Developer, desktop or enterprise applications  \\\n",
       "Django                                             1247   \n",
       "Flask                                              1185   \n",
       "Express                                            2109   \n",
       "jQuery                                             6969   \n",
       "React.js                                           3178   \n",
       "\n",
       "          Developer, embedded applications or devices  ...  Educator  \\\n",
       "Django                                            695  ...       581   \n",
       "Flask                                             717  ...       505   \n",
       "Express                                           967  ...       740   \n",
       "jQuery                                           2560  ...      1818   \n",
       "React.js                                         1324  ...      1077   \n",
       "\n",
       "          Engineer, data  Engineer, site reliability  Engineering manager  \\\n",
       "Django               867                         471                  496   \n",
       "Flask               1075                         518                  484   \n",
       "Express              765                         537                  787   \n",
       "jQuery              1871                         996                 1456   \n",
       "React.js            1139                         786                 1222   \n",
       "\n",
       "          Marketing or sales professional  Product manager  Scientist  \\\n",
       "Django                                127              489        471   \n",
       "Flask                                 101              423        500   \n",
       "Express                               169              730        338   \n",
       "jQuery                                478             1768        930   \n",
       "React.js                              227             1092        528   \n",
       "\n",
       "          Senior executive/VP  Student  System administrator  \n",
       "Django                    281     1545                  1238  \n",
       "Flask                     256     1294                  1144  \n",
       "Express                   431     1808                  1374  \n",
       "jQuery                    875     4274                  4003  \n",
       "React.js                  659     2314                  1828  \n",
       "\n",
       "[5 rows x 24 columns]"
      ]
     },
     "execution_count": 170,
     "metadata": {},
     "output_type": "execute_result"
    }
   ],
   "source": [
    "developer_framework_count.head()"
   ]
  },
  {
   "cell_type": "code",
   "execution_count": 175,
   "metadata": {
    "scrolled": false
   },
   "outputs": [
    {
     "data": {
      "image/png": "[encoded data removed]",
      "text/plain": [
       "<Figure size 864x864 with 1 Axes>"
      ]
     },
     "metadata": {
      "needs_background": "light"
     },
     "output_type": "display_data"
    }
   ],
   "source": [
    "# good, now we have a dataframe of framework by developer\n",
    "\n",
    "# lets now get a distribution to answer our question\n",
    "ds_count = pd.DataFrame(developer_framework_count['Data scientist or machine learning specialist'])\n",
    "ds_count.columns = ['Count']\n",
    "ds_count.sort_values('Count',ascending=True,inplace=True)\n",
    "\n",
    "ds_count.plot(kind = 'barh', figsize = (12,12), fontsize = 10, title = 'Total Count');"
   ]
  },
  {
   "cell_type": "code",
   "execution_count": 172,
   "metadata": {},
   "outputs": [],
   "source": [
    "ds_count['% Count'] = 100*ds_count.Count/sum(ds_count.Count)"
   ]
  },
  {
   "cell_type": "code",
   "execution_count": 173,
   "metadata": {},
   "outputs": [
    {
     "data": {
      "text/html": [
       "<div>\n",
       "<style scoped>\n",
       "    .dataframe tbody tr th:only-of-type {\n",
       "        vertical-align: middle;\n",
       "    }\n",
       "\n",
       "    .dataframe tbody tr th {\n",
       "        vertical-align: top;\n",
       "    }\n",
       "\n",
       "    .dataframe thead th {\n",
       "        text-align: right;\n",
       "    }\n",
       "</style>\n",
       "<table border=\"1\" class=\"dataframe\">\n",
       "  <thead>\n",
       "    <tr style=\"text-align: right;\">\n",
       "      <th></th>\n",
       "      <th>Count</th>\n",
       "      <th>% Count</th>\n",
       "    </tr>\n",
       "  </thead>\n",
       "  <tbody>\n",
       "    <tr>\n",
       "      <th>jQuery</th>\n",
       "      <td>1742</td>\n",
       "      <td>17.086807</td>\n",
       "    </tr>\n",
       "    <tr>\n",
       "      <th>Flask</th>\n",
       "      <td>1484</td>\n",
       "      <td>14.556155</td>\n",
       "    </tr>\n",
       "    <tr>\n",
       "      <th>Django</th>\n",
       "      <td>1118</td>\n",
       "      <td>10.966160</td>\n",
       "    </tr>\n",
       "    <tr>\n",
       "      <th>React.js</th>\n",
       "      <td>1084</td>\n",
       "      <td>10.632663</td>\n",
       "    </tr>\n",
       "    <tr>\n",
       "      <th>Angular/Angular.js</th>\n",
       "      <td>1041</td>\n",
       "      <td>10.210888</td>\n",
       "    </tr>\n",
       "  </tbody>\n",
       "</table>\n",
       "</div>"
      ],
      "text/plain": [
       "                    Count    % Count\n",
       "jQuery               1742  17.086807\n",
       "Flask                1484  14.556155\n",
       "Django               1118  10.966160\n",
       "React.js             1084  10.632663\n",
       "Angular/Angular.js   1041  10.210888"
      ]
     },
     "execution_count": 173,
     "metadata": {},
     "output_type": "execute_result"
    }
   ],
   "source": [
    "ds_count.sort_values(by='% Count',ascending=False).head()"
   ]
  },
  {
   "cell_type": "markdown",
   "metadata": {},
   "source": [
    "---\n",
    "__Insight__\n",
    "\n",
    "Very interesting, JQuery, Flask and Django are the top three frameworks of choice for Data scientist or ML specialist. For those desiring to enter the data science or machine learning landscape, learning these frameworks is definitely a good investment. But overall jQuery is the framework of choice for 17% of all developers who identify as Data scientist or ML specialist.\n",
    "\n",
    "Flask is not far behind too.\n",
    "\n",
    "---"
   ]
  },
  {
   "cell_type": "code",
   "execution_count": null,
   "metadata": {},
   "outputs": [],
   "source": []
  }
 ],
 "metadata": {
  "accelerator": "GPU",
  "colab": {
   "collapsed_sections": [
    "HlZJw-h_5g1Q",
    "pmloHiAv5yFM",
    "f6JOC91b2Not",
    "2KCEfxTWtaxS",
    "SjKy8jk80oCy",
    "XBl58MnUr7ag",
    "E1_2hCfAfMxP"
   ],
   "name": "stackoverflow_survey.ipynb",
   "provenance": [],
   "version": "0.3.2"
  },
  "kernelspec": {
   "display_name": "Python 3",
   "language": "python",
   "name": "python3"
  },
  "language_info": {
   "codemirror_mode": {
    "name": "ipython",
    "version": 3
   },
   "file_extension": ".py",
   "mimetype": "text/x-python",
   "name": "python",
   "nbconvert_exporter": "python",
   "pygments_lexer": "ipython3",
   "version": "3.7.3"
  }
 },
 "nbformat": 4,
 "nbformat_minor": 1
}
